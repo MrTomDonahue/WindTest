{
 "cells": [
  {
   "cell_type": "code",
   "execution_count": 1,
   "id": "75119f73",
   "metadata": {},
   "outputs": [
    {
     "name": "stdout",
     "output_type": "stream",
     "text": [
      "Excel file loaded successfully.\n"
     ]
    },
    {
     "data": {
      "application/vnd.jupyter.widget-view+json": {
       "model_id": "5584434d9fdb454ba9d3daf1715d605f",
       "version_major": 2,
       "version_minor": 0
      },
      "text/plain": [
       "VBox(children=(Dropdown(description='Select sheet:', options=('East Coast', 'West Coast', 'Gulf', 'Sheet1'), v…"
      ]
     },
     "metadata": {},
     "output_type": "display_data"
    },
    {
     "name": "stdout",
     "output_type": "stream",
     "text": [
      "Table saved as West Coast_Expected Values.xlsx\n"
     ]
    }
   ],
   "source": [
    "import pandas as pd\n",
    "import ipywidgets as widgets\n",
    "from IPython.display import display\n",
    "\n",
    "\n",
    "class ExcelTableReader:\n",
    "    def __init__(self, url):\n",
    "        self.url = url\n",
    "        self.data = None\n",
    "\n",
    "    def load_excel(self):\n",
    "        try:\n",
    "            self.data = pd.read_excel(self.url, sheet_name=None)\n",
    "            print(\"Excel file loaded successfully.\")\n",
    "        except Exception as e:\n",
    "            print(f\"Error loading Excel file: {str(e)}\")\n",
    "\n",
    "    def get_sheet_names(self):\n",
    "        if self.data is not None:\n",
    "            return list(self.data.keys())\n",
    "        else:\n",
    "            print(\"No Excel file loaded.\")\n",
    "            return []\n",
    "\n",
    "    def get_table_names(self, sheet_name):\n",
    "        if sheet_name in self.data.keys():\n",
    "            sheet_data = self.data[sheet_name]\n",
    "            table1_name = sheet_data.iloc[3, 6]\n",
    "            table2_name = sheet_data.iloc[4, 0]\n",
    "            return table1_name, table2_name\n",
    "        else:\n",
    "            print(f\"Sheet '{sheet_name}' does not exist.\")\n",
    "            \n",
    "    def get_table(self, sheet_name, table_name):\n",
    "        if sheet_name in self.data.keys():\n",
    "            sheet_data = self.data[sheet_name]\n",
    "            if table_name == self.get_table_names(sheet_name)[0]:\n",
    "                return sheet_data.iloc[5:16, 6:13+1]\n",
    "            elif table_name == self.get_table_names(sheet_name)[1]:\n",
    "                return sheet_data.iloc[5:16, 0:4+1]\n",
    "            else:\n",
    "                print(\"Invalid table name.\")\n",
    "        else:\n",
    "            print(f\"Sheet '{sheet_name}' does not exist.\")\n",
    "        \n",
    "    def create_dropdown(self):\n",
    "        sheet_names = self.get_sheet_names()\n",
    "        sheet_dropdown = widgets.Dropdown(\n",
    "            options = sheet_names,\n",
    "            description = \"Select sheet:\",\n",
    "        )\n",
    "        table_dropdown = widgets.Dropdown(\n",
    "            description=\"Select table:\",\n",
    "        )\n",
    "        toggle_button = widgets.ToggleButtons(\n",
    "            options = [\"View\", \"Save\"],\n",
    "            button_style = \"primary\",\n",
    "            description = \"Action:\",\n",
    "        )\n",
    "        button = widgets.Button(description=\"Execute\")\n",
    "        output = widgets.Output()\n",
    "        \n",
    "        def update_table_dropdown(change):\n",
    "            selected_sheet = sheet_dropdown.value\n",
    "            table_names = self.get_table_names(selected_sheet)\n",
    "            table_dropdown.options = table_names\n",
    "\n",
    "        def execute_action(btn):\n",
    "            selected_sheet = sheet_dropdown.value\n",
    "            selected_table = table_dropdown.value\n",
    "            action = toggle_button.value\n",
    "\n",
    "            if action == \"View\":\n",
    "                table = self.get_table(selected_sheet, selected_table)\n",
    "                if table is not None:\n",
    "                    with output:\n",
    "                        output.clear_output()\n",
    "                        print(table)\n",
    "            elif action == \"Save\":\n",
    "                table = self.get_table(selected_sheet, selected_table)\n",
    "                if table is not None:\n",
    "                    table.to_excel(f\"{selected_sheet}_{selected_table}.xlsx\")\n",
    "                    print(f\"Table saved as {selected_sheet}_{selected_table}.xlsx\")\n",
    "        \n",
    "        sheet_dropdown.observe(update_table_dropdown, \"value\")\n",
    "        button.on_click(execute_action)\n",
    "        display(widgets.VBox([sheet_dropdown, table_dropdown, toggle_button, button, output]))\n",
    "\n",
    "\n",
    "if __name__ == \"__main__\":\n",
    "    url = \"https://www.nrel.gov/wind/nwtc/assets/downloads/MetOcean/DistributionParameters.xlsx\"\n",
    "    reader = ExcelTableReader(url)\n",
    "    reader.load_excel()\n",
    "    reader.create_dropdown()\n"
   ]
  },
  {
   "cell_type": "code",
   "execution_count": null,
   "id": "acb02ed0",
   "metadata": {},
   "outputs": [],
   "source": []
  }
 ],
 "metadata": {
  "kernelspec": {
   "display_name": "Python 3 (ipykernel)",
   "language": "python",
   "name": "python3"
  },
  "language_info": {
   "codemirror_mode": {
    "name": "ipython",
    "version": 3
   },
   "file_extension": ".py",
   "mimetype": "text/x-python",
   "name": "python",
   "nbconvert_exporter": "python",
   "pygments_lexer": "ipython3",
   "version": "3.9.7"
  }
 },
 "nbformat": 4,
 "nbformat_minor": 5
}
