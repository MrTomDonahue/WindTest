{
 "cells": [
  {
   "cell_type": "code",
   "execution_count": null,
   "id": "75119f73",
   "metadata": {},
   "outputs": [],
   "source": [
    "import pdfkit\n",
    "from ExcelTableReader import ExcelTableReader\n",
    "from ExcelDropdown import ExcelDropdown\n",
    "\n",
    "# Set the path to the wkhtmltopdf executable\n",
    "config = pdfkit.configuration(wkhtmltopdf='/usr/local/bin/wkhtmltopdf')\n",
    "\n",
    "\n",
    "if __name__ == \"__main__\":\n",
    "    url = \"https://www.nrel.gov/wind/nwtc/assets/downloads/MetOcean/DistributionParameters.xlsx\"\n",
    "    reader = ExcelTableReader(url)\n",
    "    reader.load_excel()\n",
    "\n",
    "    sheet_names = reader.get_sheet_names()\n",
    "    table_names = reader.get_table_names(sheet_names[0])\n",
    "    dropdown = ExcelDropdown(sheet_names, table_names)\n",
    "    dropdown.create_dropdown(url)\n"
   ]
  }
 ],
 "metadata": {
  "kernelspec": {
   "display_name": "Python 3 (ipykernel)",
   "language": "python",
   "name": "python3"
  },
  "language_info": {
   "codemirror_mode": {
    "name": "ipython",
    "version": 3
   },
   "file_extension": ".py",
   "mimetype": "text/x-python",
   "name": "python",
   "nbconvert_exporter": "python",
   "pygments_lexer": "ipython3",
   "version": "3.9.7"
  }
 },
 "nbformat": 4,
 "nbformat_minor": 5
}
